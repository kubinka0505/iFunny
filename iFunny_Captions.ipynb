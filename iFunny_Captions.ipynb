{
  "nbformat": 4,
  "nbformat_minor": 0,
  "metadata": {
    "colab": {
      "name": "iFunny Captions (Demo).ipynb",
      "provenance": [],
      "collapsed_sections": []
    },
    "kernelspec": {
      "name": "python3",
      "display_name": "Python 3"
    }
  },
  "cells": [
    {
      "cell_type": "markdown",
      "metadata": {
        "id": "XIzBcMyuqqk4"
      },
      "source": [
        "<a href=\"https://ifunny.co\"><img src=\"data:image/png;base64,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\"></a>\n",
        "\n",
        "　\n",
        "\n",
        "<a href=\"https://github.com/kubinka0505/iFunny-Captions\"><img src=\"https://img.shields.io/badge/github-open-lightgray?logo=github&logoColor=white&style=for-the-badge\"></a>　<a href=\"https://youtu.be/Uf-D2iEOvDU\"><img src=\"https://img.shields.io/badge/youtube-watch-ff0000?logo=youtube&logoColor=white&style=for-the-badge\"></a>"
      ]
    },
    {
      "cell_type": "code",
      "metadata": {
        "id": "W6m5-9HnMtvs",
        "cellView": "form"
      },
      "source": [
        "#@title # <font color=\"red\">⬅</font> **1.** Install\n",
        "#@markdown - ## `FFmpeg` >= 4.2.0\n",
        "#@markdown - ## `gifsicle`\n",
        "!add-apt-repository -y ppa:jonathonf/ffmpeg-4 > /dev/null 2>&0\n",
        "!apt-get remove ffmpeg > /dev/null 2>&0\n",
        "!apt-get remove gifsicle > /dev/null 2>&0\n",
        "!apt-get update > /dev/null 2>&0\n",
        "!apt-get install ffmpeg > /dev/null 2>&0\n",
        "!apt-get install gifsicle > /dev/null 2>&0"
      ],
      "execution_count": null,
      "outputs": []
    },
    {
      "cell_type": "code",
      "metadata": {
        "id": "_5iw6pZwS3y4",
        "cellView": "form"
      },
      "source": [
        "#@title # <font color=\"red\">⬅</font> **2.** Clone repository\n",
        "%cd -q /content/\n",
        "!rm -rf *\n",
        "!git clone https://github.com/kubinka0505/iFunny-Captions -q\n",
        "%cd -q iFunny-Captions/\n",
        "!rm Run.sh *.md"
      ],
      "execution_count": null,
      "outputs": []
    },
    {
      "cell_type": "code",
      "metadata": {
        "id": "L4izID_70SMh",
        "cellView": "form"
      },
      "source": [
        "#@title # <font color=\"red\">⬅</font> **3.** Fill the data (<a href=\"https://github.com/kubinka0505/iFunny-Captions/#usage-\">`Config.json`</a>) **AND THEN** press ▶\n",
        "#@markdown ### `Text`\n",
        "Content = \"\" #@param {type:\"string\"}\n",
        "TEXT_CONTENT = Content\n",
        "Wrap_Factor = 3 #@param {type:\"integer\"}\n",
        "TEXT_WRAP = Wrap_Factor\n",
        "\n",
        "#@markdown ### `Image`\n",
        "Direct_URL = \"\" #@param {type:\"string\"}\n",
        "IMAGE_URL = Direct_URL\n",
        "Max_Width = 450 #@param {type:\"integer\"}\n",
        "IMAGE_MAXWIDTH = Max_Width\n",
        "\n",
        "#@markdown ### `Font`\n",
        "Type = 2 #@param [\"1\", \"2\"] {type:\"raw\"}\n",
        "FONT_TYPE = Type\n",
        "Size = False #@param {type:\"string\"}\n",
        "FONT_SIZE = Size\n",
        "\n",
        "#@markdown ## `Settings`\n",
        "Delay =  5#@param {type:\"integer\"}\n",
        "SETTINGS_DELAY = Delay\n",
        "\n",
        "#@markdown ### `Dark Mode`\n",
        "Enabled = False #@param {type:\"boolean\"}\n",
        "SETTINGS_DARKMODE_ENABLED = Enabled\n",
        "After_Hour = 22 #@param [\"0\", \"1\", \"2\", \"3\", \"4\", \"5\", \"6\", \"7\", \"8\", \"9\", \"10\", \"11\", \"12\", \"13\", \"14\", \"15\", \"16\", \"17\", \"18\", \"19\", \"20\", \"21\", \"22\", \"23\"] {type:\"raw\"}\n",
        "SETTINGS_DARKMODE_AFTERHOUR = After_Hour"
      ],
      "execution_count": null,
      "outputs": []
    },
    {
      "cell_type": "code",
      "metadata": {
        "id": "jrAoWNqOSxcs",
        "cellView": "form"
      },
      "source": [
        "#@title # <font color=\"red\">⬅</font> **4.** Process and display `Image`\n",
        "\n",
        "\"\"\"iFunny Captions Generator.\n",
        "\n",
        "Pack of scripts providing iFunny Captions\n",
        "generation, but this time You can input your\n",
        "own text and picture using `Config.json` file.\"\"\"\n",
        "\n",
        "import os\n",
        "from json import load\n",
        "from requests import get\n",
        "from textwrap import wrap\n",
        "from platform import system\n",
        "from string import printable\n",
        "from datetime import timedelta\n",
        "from random import choice, randint\n",
        "from time import sleep, strftime, time\n",
        "from PIL import Image, ImageColor, ImageDraw, ImageFile, ImageFont\n",
        "\n",
        "__author__\t\t= \"kubinka0505\"\n",
        "__copyright__\t= __author__\n",
        "__credits__\t\t= [__author__, \"SuperCuber\"]\n",
        "__version__\t\t= \"2.6\"\n",
        "__date__\t\t= \"24.11.2020\"\n",
        "__status__\t\t= \"Development\"\n",
        "__license__\t\t= \"GPL v1\"\n",
        "\n",
        "__SLASH = \"/\"\n",
        "\n",
        "# Opening Scripts/Utils.py\n",
        "\n",
        "print(\"Setting up utils...\")\n",
        "exec(open(\"/content/iFunny-Captions/Scripts/Utils.py\").read())\n",
        "Config = Config()\n",
        "\n",
        "ImageFile.LOAD_TRUNCATED_IMAGES = True\n",
        "\n",
        "Config[\"Text\"][\"Content\"] = TEXT_CONTENT\n",
        "Config[\"Text\"][\"Wrap_Factor\"] = TEXT_WRAP\n",
        "Config[\"Image\"][\"URL / Path\"] = IMAGE_URL\n",
        "Config[\"Image\"][\"Max_Width\"] = IMAGE_MAXWIDTH\n",
        "Config[\"Font\"][\"Type\"] = FONT_TYPE\n",
        "Config[\"Font\"][\"Size\"] = FONT_SIZE\n",
        "Config[\"Settings\"][\"Delay\"] = SETTINGS_DELAY\n",
        "Config[\"Settings\"][\"Dark_Mode\"][\"Enabled\"] = SETTINGS_DARKMODE_ENABLED\n",
        "Config[\"Settings\"][\"Dark_Mode\"][\"After_Hour\"] = SETTINGS_DARKMODE_AFTERHOUR\n",
        "\n",
        "os.environ[\"NAME\"] = \"{0}_{1}\".format(TEXT_CONTENT.\\\n",
        "\treplace(\" \", \"_\").\\\n",
        "\treplace(\"\\\\\", \"_\").\\\n",
        "\treplace(\"/\", \"_\").\\\n",
        "\treplace(\":\", \"_\").\\\n",
        "\treplace(\"*\", \"_\").\\\n",
        "\treplace(\"?\", \"_\").\\\n",
        "\treplace('\"', \"_\").\\\n",
        "\treplace(\"<\", \"_\").\\\n",
        "\treplace(\">\", \"_\").\\\n",
        "\treplace(\"|\", \"_\").\\\n",
        "\tencode().decode(\"utf-8\", errors = \"strict\")[0:192],\n",
        "\tRandom_String(8)\n",
        "\t)\n",
        "\n",
        "os.environ[\"URL\"] = Get_Service(IMAGE_URL)\n",
        "os.environ[\"DELAY\"] = str(SETTINGS_DELAY)\n",
        "\n",
        "# Error Handling\n",
        "\n",
        "if get(Get_Service(IMAGE_URL)).status_code != 200: exit(\"\\nURL returns status code {0} ({1}).\\nImage will not be processed.\".format(Site.status_code, Site.reason.title()))\n",
        "\n",
        "# Image to Frames conversion\n",
        "\n",
        "print(\"Converting URL Image to Frames... (This can take a while)\")\n",
        "!ffmpeg -i $URL -vsync 2 Frame_%06d.png -hide_banner -loglevel panic\n",
        "\n",
        "Frames = [File for File in os.listdir(os.getcwd()) if File.endswith(\"png\")]\n",
        "Frames.sort(key = str)\n",
        "\n",
        "# GIF Making Process\n",
        "\n",
        "print(\"Making {0}...\".format(\"PNG\" if len(Frames) == 1 else \"GIF\"))\n",
        "for Frame in Frames:\n",
        "\tCaption = Image.open(Frame)\n",
        "\t#---#\n",
        "\texec(open(\"/content/iFunny-Captions/Scripts/Caption.py\").read())\n",
        "\texec(open(\"/content/iFunny-Captions/Scripts/Gifer.py\").read())\n",
        "\t#---#\n",
        "\tCaptionized.save(Frame)\n",
        "\n",
        "print(\"Saving {0}...\".format(\"PNG\" if len(Frames) == 1 else \"GIF\"))\n",
        "\n",
        "# Saving Image\n",
        "\n",
        "if len(Frames) == 1:\n",
        "\tGIF = Image.open(Frames[0])\n",
        "\tGIF.save(\"/content/iFunny-Captions/Images/{0}.png\".format(os.environ[\"NAME\"]))\n",
        "\n",
        "if not len(Frames) == 1:\n",
        "\t!ffmpeg -i Frame_%06d.png -vf palettegen=reserve_transparent=1 Palette.png -y -hide_banner -loglevel panic\n",
        "\t!ffmpeg -i Frame_%06d.png -i Palette.png -lavfi paletteuse=alpha_threshold=128 -gifflags -offsetting Images/$NAME.gif -y -hide_banner -loglevel panic\n",
        "\t!gifsicle --careful -d=$DELAY -b Images/$NAME.gif -w\n",
        "\n",
        "# Frames Removal\n",
        "\n",
        "print(\"Removing {0}...\".format(\"Image\" if len(Frames) == 1 else \"Frames\"))\n",
        "[os.remove(\"{0}/{1}\".format(os.getcwd(), Frame)) for Frame in os.listdir(os.getcwd()) if Frame.endswith(\"png\")]\n",
        "print(\"Done!\\n\\n{0}\\n\".format(\"-\" * 64))\n",
        "\n",
        "# Displaying Image\n",
        "\n",
        "def Display(FileName: str):\n",
        "    import base64\n",
        "    from IPython import display\n",
        "\t#---#\n",
        "    with open(FileName, 'rb') as fd: b64 = base64.b64encode(fd.read()).decode('ascii')\n",
        "\t#---#\n",
        "    return display.HTML('<img src=\"data:image/gif;base64,{0}\" />'.format(b64))\n",
        "\n",
        "print(\"Displaying... (This can take a while)\\n\")\n",
        "Display('/content/iFunny-Captions/Images/{0}.{1}'.format(os.environ[\"NAME\"], \"png\" if len(Frames) == 1 else \"gif\"))"
      ],
      "execution_count": null,
      "outputs": []
    },
    {
      "cell_type": "markdown",
      "metadata": {
        "id": "xkOdnycTdlZ0"
      },
      "source": [
        "---"
      ]
    },
    {
      "cell_type": "code",
      "metadata": {
        "id": "cbDnFZoDcEy9",
        "cellView": "form"
      },
      "source": [
        "#@title #<font color=\"gold\">⬅</font> Optional\n",
        "#@markdown - Remove <font color=\"red\">**ALL**</font> captions (<font color=\"red\">**no undo**</font>)\n",
        "%cd -q /content/iFunny-Captions/Images/\n",
        "!rm *\n",
        "%cd -q .."
      ],
      "execution_count": null,
      "outputs": []
    }
  ]
}
